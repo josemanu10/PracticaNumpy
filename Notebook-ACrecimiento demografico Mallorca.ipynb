{
 "cells": [
  {
   "cell_type": "code",
   "execution_count": 1,
   "id": "07977281",
   "metadata": {},
   "outputs": [],
   "source": [
    "import numpy as np\n",
    "#Cargamos los paquetes que vamos a utilizar para esta base de datos."
   ]
  },
  {
   "cell_type": "code",
   "execution_count": 30,
   "id": "bff41a15",
   "metadata": {
    "scrolled": true
   },
   "outputs": [
    {
     "name": "stdout",
     "output_type": "stream",
     "text": [
      "[  70    0   27   64    6   47    0   16   39    8  178    2   43  108\n",
      "   70   58    1   18   52    6  109    1   40  103    6    6    0    2\n",
      "    7   -1   57    0   12   65   -8    3    0    3    2    1   62    1\n",
      "   26   59    3   10    0    4   10    0   50    0   15   55   -5  340\n",
      "    4  112  294   46   20    0    9   30  -10  100    0   37   85   15\n",
      "  109    1   29   94   15   41    0   14   42   -1  208    0   92  219\n",
      "  -11   35    0   17   25   10   14    0   11    8    6    5    0    1\n",
      "    4    1  434    1   98  315  119    3    0    0    0    3   35    0\n",
      "   14   45  -10    1    0    0    3   -2  186    1   42  172   14   39\n",
      "    0   13   30    9   91    1   28   52   39    4    0    1    3    1\n",
      "  334    0   71  246   88   16    0    2   12    4   58    0   17   44\n",
      "   14   24    0   10   23    1  277    3   98  218   59  445    0   81\n",
      "  341  104   13    0    8   10    3  239    1   88  189   50   19    0\n",
      "    9   30  -11  264    2   95  200   64   33    0   14   29    4    6\n",
      "    0    8    3    3   22    1    7   30   -8   77    0   23   71    6\n",
      " 3345   16 1114 3355  -10   26    0    7   28   -2  170    1   27  108\n",
      "   62  130    0   50  134   -4   50    0   10   58   -8   13    0    3\n",
      "   12    1   34    0    7   42   -8  230    2   62  151   79   23    0\n",
      "    4   46  -23   52    0    9   49    3  237    1   64  141   96   61\n",
      "    0   25   55    6   37    0   20   41   -4    8    0    5   11   -3\n",
      "  303    0  113  229   74   92    0   35  110  -18   63    0   20   65\n",
      "   -2   86    0   23  128  -42   33    0   14   28    5   28    0   11\n",
      "   31   -3   32    0    6   43  -11   94    0   33  131  -37  104    0\n",
      "   32   91   13   13    0    4   17   -4   49    0    7   24   25]\n"
     ]
    }
   ],
   "source": [
    "data = np.genfromtxt(\"data/data.csv\", delimiter=\";\",usecols=2,skip_header=1, dtype=str)\n",
    "data=[i.replace(\".\",\"\") for i in data]\n",
    "#Para que en el caso de palma que son numeros mas grandes y que se leian como 3 y no como 3345 he tenido que ponerlo primero como strings\n",
    "data=np.asarray(data)\n",
    "data=data.astype(int)\n",
    "#en este punto lo incorporo de nuevo a numeros para poder ptrocesar los datos.\n",
    "print(data)\n",
    "#Descargamos los datos de la tabla, pero solo descargamos los numeros, que son los que nos interesa."
   ]
  },
  {
   "cell_type": "code",
   "execution_count": 31,
   "id": "a8d4b8e2",
   "metadata": {
    "scrolled": true
   },
   "outputs": [
    {
     "data": {
      "text/plain": [
       "array([[  70,    0,   27,   64,    6],\n",
       "       [  47,    0,   16,   39,    8],\n",
       "       [ 178,    2,   43,  108,   70],\n",
       "       [  58,    1,   18,   52,    6],\n",
       "       [ 109,    1,   40,  103,    6],\n",
       "       [   6,    0,    2,    7,   -1],\n",
       "       [  57,    0,   12,   65,   -8],\n",
       "       [   3,    0,    3,    2,    1],\n",
       "       [  62,    1,   26,   59,    3],\n",
       "       [  10,    0,    4,   10,    0],\n",
       "       [  50,    0,   15,   55,   -5],\n",
       "       [ 340,    4,  112,  294,   46],\n",
       "       [  20,    0,    9,   30,  -10],\n",
       "       [ 100,    0,   37,   85,   15],\n",
       "       [ 109,    1,   29,   94,   15],\n",
       "       [  41,    0,   14,   42,   -1],\n",
       "       [ 208,    0,   92,  219,  -11],\n",
       "       [  35,    0,   17,   25,   10],\n",
       "       [  14,    0,   11,    8,    6],\n",
       "       [   5,    0,    1,    4,    1],\n",
       "       [ 434,    1,   98,  315,  119],\n",
       "       [   3,    0,    0,    0,    3],\n",
       "       [  35,    0,   14,   45,  -10],\n",
       "       [   1,    0,    0,    3,   -2],\n",
       "       [ 186,    1,   42,  172,   14],\n",
       "       [  39,    0,   13,   30,    9],\n",
       "       [  91,    1,   28,   52,   39],\n",
       "       [   4,    0,    1,    3,    1],\n",
       "       [ 334,    0,   71,  246,   88],\n",
       "       [  16,    0,    2,   12,    4],\n",
       "       [  58,    0,   17,   44,   14],\n",
       "       [  24,    0,   10,   23,    1],\n",
       "       [ 277,    3,   98,  218,   59],\n",
       "       [ 445,    0,   81,  341,  104],\n",
       "       [  13,    0,    8,   10,    3],\n",
       "       [ 239,    1,   88,  189,   50],\n",
       "       [  19,    0,    9,   30,  -11],\n",
       "       [ 264,    2,   95,  200,   64],\n",
       "       [  33,    0,   14,   29,    4],\n",
       "       [   6,    0,    8,    3,    3],\n",
       "       [  22,    1,    7,   30,   -8],\n",
       "       [  77,    0,   23,   71,    6],\n",
       "       [3345,   16, 1114, 3355,  -10],\n",
       "       [  26,    0,    7,   28,   -2],\n",
       "       [ 170,    1,   27,  108,   62],\n",
       "       [ 130,    0,   50,  134,   -4],\n",
       "       [  50,    0,   10,   58,   -8],\n",
       "       [  13,    0,    3,   12,    1],\n",
       "       [  34,    0,    7,   42,   -8],\n",
       "       [ 230,    2,   62,  151,   79],\n",
       "       [  23,    0,    4,   46,  -23],\n",
       "       [  52,    0,    9,   49,    3],\n",
       "       [ 237,    1,   64,  141,   96],\n",
       "       [  61,    0,   25,   55,    6],\n",
       "       [  37,    0,   20,   41,   -4],\n",
       "       [   8,    0,    5,   11,   -3],\n",
       "       [ 303,    0,  113,  229,   74],\n",
       "       [  92,    0,   35,  110,  -18],\n",
       "       [  63,    0,   20,   65,   -2],\n",
       "       [  86,    0,   23,  128,  -42],\n",
       "       [  33,    0,   14,   28,    5],\n",
       "       [  28,    0,   11,   31,   -3],\n",
       "       [  32,    0,    6,   43,  -11],\n",
       "       [  94,    0,   33,  131,  -37],\n",
       "       [ 104,    0,   32,   91,   13],\n",
       "       [  13,    0,    4,   17,   -4],\n",
       "       [  49,    0,    7,   24,   25]])"
      ]
     },
     "execution_count": 31,
     "metadata": {},
     "output_type": "execute_result"
    }
   ],
   "source": [
    "valors = data.reshape(67,5)\n",
    "valors\n",
    "#en este caso he tenido que acudir al documento orginal para ver como estaba organizado y hay 67 filas y 5 columnas asi que he constituido la matriz para que los datos estuviesen en orden, para que nos de los datos correctos."
   ]
  },
  {
   "cell_type": "code",
   "execution_count": null,
   "id": "75bf1966",
   "metadata": {},
   "outputs": [],
   "source": [
    "#Los resultado que nos van a dar es de todas las columnas una por una y seguidas de una coma, de esta manera veremos que resultado nos y asi poderlo computar en un futuro segun el dato que nos interese de una manera conjunta."
   ]
  },
  {
   "cell_type": "code",
   "execution_count": 32,
   "id": "7deca364",
   "metadata": {},
   "outputs": [
    {
     "data": {
      "text/plain": [
       "array([9455,   40, 2960, 8559,  896])"
      ]
     },
     "execution_count": 32,
     "metadata": {},
     "output_type": "execute_result"
    }
   ],
   "source": [
    "sumatot= np.sum(valors,axis=0)\n",
    "sumatot"
   ]
  },
  {
   "cell_type": "code",
   "execution_count": 33,
   "id": "47c024e7",
   "metadata": {},
   "outputs": [
    {
     "data": {
      "text/plain": [
       "array([141.11940299,   0.59701493,  44.17910448, 127.74626866,\n",
       "        13.37313433])"
      ]
     },
     "execution_count": 33,
     "metadata": {},
     "output_type": "execute_result"
    }
   ],
   "source": [
    "mediatot=np.mean(valors,axis=0)\n",
    "mediatot"
   ]
  },
  {
   "cell_type": "code",
   "execution_count": 34,
   "id": "62de3ade",
   "metadata": {},
   "outputs": [
    {
     "data": {
      "text/plain": [
       "array([408.24888233,   2.04472165, 135.04061582, 405.29334662,\n",
       "        32.63174712])"
      ]
     },
     "execution_count": 34,
     "metadata": {},
     "output_type": "execute_result"
    }
   ],
   "source": [
    "varianzatot=np.std(valors,axis=0)\n",
    "varianzatot"
   ]
  }
 ],
 "metadata": {
  "kernelspec": {
   "display_name": "Python 3 (ipykernel)",
   "language": "python",
   "name": "python3"
  },
  "language_info": {
   "codemirror_mode": {
    "name": "ipython",
    "version": 3
   },
   "file_extension": ".py",
   "mimetype": "text/x-python",
   "name": "python",
   "nbconvert_exporter": "python",
   "pygments_lexer": "ipython3",
   "version": "3.10.8"
  }
 },
 "nbformat": 4,
 "nbformat_minor": 5
}
