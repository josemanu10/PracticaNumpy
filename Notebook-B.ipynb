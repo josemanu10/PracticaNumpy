{
 "cells": [
  {
   "cell_type": "code",
   "execution_count": 25,
   "id": "f9828e94",
   "metadata": {},
   "outputs": [],
   "source": [
    "import numpy as np\n",
    "import matplotlib.pylab as plt\n",
    "#cargamos la libreria que vamos a utilizar."
   ]
  },
  {
   "cell_type": "code",
   "execution_count": 5,
   "id": "5b8efa97",
   "metadata": {},
   "outputs": [
    {
     "data": {
      "text/plain": [
       "array([['boro', 'block', 'lot'],\n",
       "       ['2', '3281', '45'],\n",
       "       ['2', '3281', '50'],\n",
       "       ...,\n",
       "       ['2', '2267', '67'],\n",
       "       ['4', '5331', '8'],\n",
       "       ['1', '2217', '7']], dtype='<U5')"
      ]
     },
     "execution_count": 5,
     "metadata": {},
     "output_type": "execute_result"
    }
   ],
   "source": [
    "best3=np.loadtxt(\"data/b.csv\",usecols=(1,2,3),delimiter=',',dtype=str)\n",
    "best3\n",
    "#cargamos los datos  y los visualizamos"
   ]
  },
  {
   "cell_type": "code",
   "execution_count": 6,
   "id": "eb61381b",
   "metadata": {},
   "outputs": [
    {
     "name": "stdout",
     "output_type": "stream",
     "text": [
      "3\n",
      "535\n"
     ]
    }
   ],
   "source": [
    "#ahora tenemos que observar las dimensiones de los datos para seleccionarlos en cada varible adecuadamente.\n",
    "print(np.size(best3[0]))\n",
    "print(np.size(best3[:,0]))"
   ]
  },
  {
   "cell_type": "code",
   "execution_count": null,
   "id": "9e428d1b",
   "metadata": {},
   "outputs": [],
   "source": [
    "##ahora hare lo solicitado en la primera actividad y ademas de una variable distinta que nos pueda interesar para los datos"
   ]
  },
  {
   "cell_type": "code",
   "execution_count": null,
   "id": "b8d003c6",
   "metadata": {},
   "outputs": [],
   "source": [
    "loc=best3[1:536,0]\n",
    "bloqfis=best3[1:536,1]\n",
    "lottax=best3[1:536,2]\n",
    "#Seleccionamos unicamente los datos de cada una de las columnas para que nos sea mas sencillo hacer los calculos y no salgan los nombres."
   ]
  },
  {
   "cell_type": "code",
   "execution_count": 36,
   "id": "99cb8261",
   "metadata": {},
   "outputs": [
    {
     "name": "stdout",
     "output_type": "stream",
     "text": [
      "24409\n",
      "45.70973782771536\n",
      "4009.2696804556103\n",
      "45.70973782771536\n",
      "614\n",
      "1\n"
     ]
    }
   ],
   "source": [
    "tax=lottax.astype(int)\n",
    "suma3=np.sum(tax)\n",
    "media3=np.mean(tax)\n",
    "varianza3=np.var(tax)\n",
    "max3=np.max(tax)\n",
    "min3=np.min(tax)\n",
    "print(suma3)\n",
    "print(media3)\n",
    "print(varianza3)\n",
    "print(max3)\n",
    "print(min3)"
   ]
  },
  {
   "cell_type": "code",
   "execution_count": null,
   "id": "4434ef60",
   "metadata": {},
   "outputs": [],
   "source": [
    "#Aqui podemos observar cuantos lotes te impuestos hay, la media de lotes de impuestos que hay por casa y la variabilidad que hay entre unas, que es importante, y el numero de lotes maximo y minimo que hay por casa."
   ]
  },
  {
   "cell_type": "code",
   "execution_count": 39,
   "id": "a6a00637",
   "metadata": {},
   "outputs": [
    {
     "name": "stdout",
     "output_type": "stream",
     "text": [
      "1754259\n",
      "3285.129213483146\n",
      "6821830.464577285\n",
      "3285.129213483146\n",
      "16232\n",
      "14\n"
     ]
    }
   ],
   "source": [
    "blofis1=bloqfis.astype(int)\n",
    "suma2=np.sum(blofis1)\n",
    "media2=np.mean(blofis1)\n",
    "varianza2=np.var(blofis1)\n",
    "mean2=np.mean(blofis1)\n",
    "max2=np.max(blofis1)\n",
    "min2=np.min(blofis1)\n",
    "print(suma2)\n",
    "print(media2)\n",
    "print(varianza2)\n",
    "print(mean2)\n",
    "print(max2)\n",
    "print(min2)"
   ]
  },
  {
   "cell_type": "code",
   "execution_count": null,
   "id": "e08906fa",
   "metadata": {},
   "outputs": [],
   "source": [
    "#En esta opcion podemoobservar cuantos bloques fiscales existen, la media de lotes que hay por casa que nos pueden hacer una idea del poder adquisitivo y la variabilidad que hay entre unas ya que nos reflejara las distintas condiciones que puede tener una casa de otra y el numero de lotes maximo y minimo que hay por casa."
   ]
  },
  {
   "cell_type": "code",
   "execution_count": 40,
   "id": "06dc4447",
   "metadata": {},
   "outputs": [
    {
     "name": "stdout",
     "output_type": "stream",
     "text": [
      "1198\n",
      "2.243445692883895\n",
      "1.0388989236891613\n",
      "2.243445692883895\n",
      "5\n",
      "1\n"
     ]
    }
   ],
   "source": [
    "loctop=loc.astype(int)\n",
    "suma1=np.sum(loctop)\n",
    "media1=np.mean(loctop)\n",
    "varianza1=np.std(loctop)\n",
    "mean1=np.mean(loctop)\n",
    "max1=np.max(loctop)\n",
    "min1=np.min(loctop)\n",
    "print(suma1)\n",
    "print(media1)\n",
    "print(varianza1)\n",
    "print(mean1)\n",
    "print(max1)\n",
    "print(min1)"
   ]
  },
  {
   "cell_type": "code",
   "execution_count": null,
   "id": "ad3d68b8",
   "metadata": {},
   "outputs": [],
   "source": []
  }
 ],
 "metadata": {
  "kernelspec": {
   "display_name": "Python 3 (ipykernel)",
   "language": "python",
   "name": "python3"
  },
  "language_info": {
   "codemirror_mode": {
    "name": "ipython",
    "version": 3
   },
   "file_extension": ".py",
   "mimetype": "text/x-python",
   "name": "python",
   "nbconvert_exporter": "python",
   "pygments_lexer": "ipython3",
   "version": "3.10.8"
  }
 },
 "nbformat": 4,
 "nbformat_minor": 5
}
